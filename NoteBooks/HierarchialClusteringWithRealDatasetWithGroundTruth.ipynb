{
 "cells": [
  {
   "cell_type": "code",
   "execution_count": 1,
   "metadata": {
    "colab": {
     "base_uri": "https://localhost:8080/",
     "height": 226
    },
    "executionInfo": {
     "elapsed": 456,
     "status": "ok",
     "timestamp": 1724160049601,
     "user": {
      "displayName": "Rajendra Varma Bhupathiraju",
      "userId": "12118638011922266193"
     },
     "user_tz": -330
    },
    "id": "A3WIMLMA8bq2",
    "outputId": "7d983941-bb28-416f-d720-0a89bd9d9d34"
   },
   "outputs": [
    {
     "data": {
      "text/html": [
       "<div>\n",
       "<style scoped>\n",
       "    .dataframe tbody tr th:only-of-type {\n",
       "        vertical-align: middle;\n",
       "    }\n",
       "\n",
       "    .dataframe tbody tr th {\n",
       "        vertical-align: top;\n",
       "    }\n",
       "\n",
       "    .dataframe thead th {\n",
       "        text-align: right;\n",
       "    }\n",
       "</style>\n",
       "<table border=\"1\" class=\"dataframe\">\n",
       "  <thead>\n",
       "    <tr style=\"text-align: right;\">\n",
       "      <th></th>\n",
       "      <th>Class</th>\n",
       "      <th>Alcohol</th>\n",
       "      <th>MalicAcid</th>\n",
       "      <th>Ash</th>\n",
       "      <th>AlcalinityOfAsh</th>\n",
       "      <th>Magnesium</th>\n",
       "      <th>TotalPhenols</th>\n",
       "      <th>Flavanoids</th>\n",
       "      <th>NonflavanoidPhenols</th>\n",
       "      <th>Proanthocyanins</th>\n",
       "      <th>ColorIntensity</th>\n",
       "      <th>Hue</th>\n",
       "      <th>OD280/OD315</th>\n",
       "      <th>Proline</th>\n",
       "    </tr>\n",
       "  </thead>\n",
       "  <tbody>\n",
       "    <tr>\n",
       "      <th>0</th>\n",
       "      <td>1</td>\n",
       "      <td>14.23</td>\n",
       "      <td>1.71</td>\n",
       "      <td>2.43</td>\n",
       "      <td>15.6</td>\n",
       "      <td>127</td>\n",
       "      <td>2.80</td>\n",
       "      <td>3.06</td>\n",
       "      <td>0.28</td>\n",
       "      <td>2.29</td>\n",
       "      <td>5.64</td>\n",
       "      <td>1.04</td>\n",
       "      <td>3.92</td>\n",
       "      <td>1065</td>\n",
       "    </tr>\n",
       "    <tr>\n",
       "      <th>1</th>\n",
       "      <td>1</td>\n",
       "      <td>13.20</td>\n",
       "      <td>1.78</td>\n",
       "      <td>2.14</td>\n",
       "      <td>11.2</td>\n",
       "      <td>100</td>\n",
       "      <td>2.65</td>\n",
       "      <td>2.76</td>\n",
       "      <td>0.26</td>\n",
       "      <td>1.28</td>\n",
       "      <td>4.38</td>\n",
       "      <td>1.05</td>\n",
       "      <td>3.40</td>\n",
       "      <td>1050</td>\n",
       "    </tr>\n",
       "    <tr>\n",
       "      <th>2</th>\n",
       "      <td>1</td>\n",
       "      <td>13.16</td>\n",
       "      <td>2.36</td>\n",
       "      <td>2.67</td>\n",
       "      <td>18.6</td>\n",
       "      <td>101</td>\n",
       "      <td>2.80</td>\n",
       "      <td>3.24</td>\n",
       "      <td>0.30</td>\n",
       "      <td>2.81</td>\n",
       "      <td>5.68</td>\n",
       "      <td>1.03</td>\n",
       "      <td>3.17</td>\n",
       "      <td>1185</td>\n",
       "    </tr>\n",
       "    <tr>\n",
       "      <th>3</th>\n",
       "      <td>1</td>\n",
       "      <td>14.37</td>\n",
       "      <td>1.95</td>\n",
       "      <td>2.50</td>\n",
       "      <td>16.8</td>\n",
       "      <td>113</td>\n",
       "      <td>3.85</td>\n",
       "      <td>3.49</td>\n",
       "      <td>0.24</td>\n",
       "      <td>2.18</td>\n",
       "      <td>7.80</td>\n",
       "      <td>0.86</td>\n",
       "      <td>3.45</td>\n",
       "      <td>1480</td>\n",
       "    </tr>\n",
       "    <tr>\n",
       "      <th>4</th>\n",
       "      <td>1</td>\n",
       "      <td>13.24</td>\n",
       "      <td>2.59</td>\n",
       "      <td>2.87</td>\n",
       "      <td>21.0</td>\n",
       "      <td>118</td>\n",
       "      <td>2.80</td>\n",
       "      <td>2.69</td>\n",
       "      <td>0.39</td>\n",
       "      <td>1.82</td>\n",
       "      <td>4.32</td>\n",
       "      <td>1.04</td>\n",
       "      <td>2.93</td>\n",
       "      <td>735</td>\n",
       "    </tr>\n",
       "  </tbody>\n",
       "</table>\n",
       "</div>"
      ],
      "text/plain": [
       "   Class  Alcohol  MalicAcid   Ash  AlcalinityOfAsh  Magnesium  TotalPhenols  \\\n",
       "0      1    14.23       1.71  2.43             15.6        127          2.80   \n",
       "1      1    13.20       1.78  2.14             11.2        100          2.65   \n",
       "2      1    13.16       2.36  2.67             18.6        101          2.80   \n",
       "3      1    14.37       1.95  2.50             16.8        113          3.85   \n",
       "4      1    13.24       2.59  2.87             21.0        118          2.80   \n",
       "\n",
       "   Flavanoids  NonflavanoidPhenols  Proanthocyanins  ColorIntensity   Hue  \\\n",
       "0        3.06                 0.28             2.29            5.64  1.04   \n",
       "1        2.76                 0.26             1.28            4.38  1.05   \n",
       "2        3.24                 0.30             2.81            5.68  1.03   \n",
       "3        3.49                 0.24             2.18            7.80  0.86   \n",
       "4        2.69                 0.39             1.82            4.32  1.04   \n",
       "\n",
       "   OD280/OD315  Proline  \n",
       "0         3.92     1065  \n",
       "1         3.40     1050  \n",
       "2         3.17     1185  \n",
       "3         3.45     1480  \n",
       "4         2.93      735  "
      ]
     },
     "execution_count": 1,
     "metadata": {},
     "output_type": "execute_result"
    }
   ],
   "source": [
    "import pandas as pd\n",
    "\n",
    "cols =  ['Class', 'Alcohol', 'MalicAcid', 'Ash', 'AlcalinityOfAsh', 'Magnesium', 'TotalPhenols',\n",
    "         'Flavanoids', 'NonflavanoidPhenols', 'Proanthocyanins', 'ColorIntensity',\n",
    "         'Hue', 'OD280/OD315', 'Proline']\n",
    "\n",
    "D =pd.read_csv(\"wine.csv\", names=cols)\n",
    "D.head()"
   ]
  },
  {
   "cell_type": "code",
   "execution_count": 3,
   "metadata": {
    "colab": {
     "base_uri": "https://localhost:8080/"
    },
    "executionInfo": {
     "elapsed": 431,
     "status": "ok",
     "timestamp": 1724160062435,
     "user": {
      "displayName": "Rajendra Varma Bhupathiraju",
      "userId": "12118638011922266193"
     },
     "user_tz": -330
    },
    "id": "_ZyprR_d8inV",
    "outputId": "14da4b7a-5f19-4883-b0f6-1d7647fe34ce"
   },
   "outputs": [
    {
     "name": "stdout",
     "output_type": "stream",
     "text": [
      "[1 2 3]\n",
      "No.of.unique values : 3\n"
     ]
    }
   ],
   "source": [
    "unique = pd.unique(D['Class'])\n",
    "print(unique)\n",
    "n = len(unique)\n",
    "\n",
    "print(\"No.of.unique values :\", n)"
   ]
  },
  {
   "cell_type": "code",
   "execution_count": 5,
   "metadata": {
    "colab": {
     "base_uri": "https://localhost:8080/"
    },
    "executionInfo": {
     "elapsed": 425,
     "status": "ok",
     "timestamp": 1724160072620,
     "user": {
      "displayName": "Rajendra Varma Bhupathiraju",
      "userId": "12118638011922266193"
     },
     "user_tz": -330
    },
    "id": "LtSCfYAf8q-i",
    "outputId": "f63fef60-89e8-4c26-bb0f-aabc35222b05"
   },
   "outputs": [
    {
     "name": "stdout",
     "output_type": "stream",
     "text": [
      "0      1\n",
      "1      1\n",
      "2      1\n",
      "3      1\n",
      "4      1\n",
      "      ..\n",
      "173    3\n",
      "174    3\n",
      "175    3\n",
      "176    3\n",
      "177    3\n",
      "Name: Class, Length: 178, dtype: int64\n"
     ]
    }
   ],
   "source": [
    "Y = D['Class']\n",
    "print(Y)"
   ]
  },
  {
   "cell_type": "code",
   "execution_count": 7,
   "metadata": {
    "colab": {
     "base_uri": "https://localhost:8080/"
    },
    "executionInfo": {
     "elapsed": 451,
     "status": "ok",
     "timestamp": 1724160084774,
     "user": {
      "displayName": "Rajendra Varma Bhupathiraju",
      "userId": "12118638011922266193"
     },
     "user_tz": -330
    },
    "id": "dHgcEO0w8tcv",
    "outputId": "7c118362-34bf-4dfa-b158-46dd51c4c436"
   },
   "outputs": [
    {
     "name": "stdout",
     "output_type": "stream",
     "text": [
      "     Alcohol  MalicAcid   Ash  AlcalinityOfAsh  Magnesium  TotalPhenols  \\\n",
      "0      14.23       1.71  2.43             15.6        127          2.80   \n",
      "1      13.20       1.78  2.14             11.2        100          2.65   \n",
      "2      13.16       2.36  2.67             18.6        101          2.80   \n",
      "3      14.37       1.95  2.50             16.8        113          3.85   \n",
      "4      13.24       2.59  2.87             21.0        118          2.80   \n",
      "..       ...        ...   ...              ...        ...           ...   \n",
      "173    13.71       5.65  2.45             20.5         95          1.68   \n",
      "174    13.40       3.91  2.48             23.0        102          1.80   \n",
      "175    13.27       4.28  2.26             20.0        120          1.59   \n",
      "176    13.17       2.59  2.37             20.0        120          1.65   \n",
      "177    14.13       4.10  2.74             24.5         96          2.05   \n",
      "\n",
      "     Flavanoids  NonflavanoidPhenols  Proanthocyanins  ColorIntensity   Hue  \\\n",
      "0          3.06                 0.28             2.29            5.64  1.04   \n",
      "1          2.76                 0.26             1.28            4.38  1.05   \n",
      "2          3.24                 0.30             2.81            5.68  1.03   \n",
      "3          3.49                 0.24             2.18            7.80  0.86   \n",
      "4          2.69                 0.39             1.82            4.32  1.04   \n",
      "..          ...                  ...              ...             ...   ...   \n",
      "173        0.61                 0.52             1.06            7.70  0.64   \n",
      "174        0.75                 0.43             1.41            7.30  0.70   \n",
      "175        0.69                 0.43             1.35           10.20  0.59   \n",
      "176        0.68                 0.53             1.46            9.30  0.60   \n",
      "177        0.76                 0.56             1.35            9.20  0.61   \n",
      "\n",
      "     OD280/OD315  Proline  \n",
      "0           3.92     1065  \n",
      "1           3.40     1050  \n",
      "2           3.17     1185  \n",
      "3           3.45     1480  \n",
      "4           2.93      735  \n",
      "..           ...      ...  \n",
      "173         1.74      740  \n",
      "174         1.56      750  \n",
      "175         1.56      835  \n",
      "176         1.62      840  \n",
      "177         1.60      560  \n",
      "\n",
      "[178 rows x 13 columns]\n"
     ]
    }
   ],
   "source": [
    "X = D.loc[:, D.columns != 'Class']\n",
    "print(X)"
   ]
  },
  {
   "cell_type": "code",
   "execution_count": 9,
   "metadata": {
    "executionInfo": {
     "elapsed": 1271,
     "status": "ok",
     "timestamp": 1724160111597,
     "user": {
      "displayName": "Rajendra Varma Bhupathiraju",
      "userId": "12118638011922266193"
     },
     "user_tz": -330
    },
    "id": "FaVyuaWD8wbZ"
   },
   "outputs": [],
   "source": [
    "from scipy.cluster.hierarchy import dendrogram, linkage\n",
    "\n",
    "data = X\n",
    "\n",
    "# Min-Linkage\n",
    "'''\n",
    "The advantage of the Min method is that it can accurately handle non-elliptical shapes.\n",
    "The disadvantages are that it is sensitive to noise and outliers.\n",
    "'''\n",
    "Z1 = linkage(data, method='single', metric='euclidean')\n",
    "\n",
    "# Max-Linkage\n",
    "'''\n",
    "Max is less sensitive to noise and outliers in comparison to MIN method.\n",
    "However, MAX can break large clusters and tends to be biased towards globular clusters.\n",
    "'''\n",
    "Z2 = linkage(data, method='complete', metric='euclidean')\n",
    "\n",
    "# Average-Linkage\n",
    "'''\n",
    "The Average method defines the distance between clusters as the average pairwise distance among all pairs of points in the clusters.\n",
    "'''\n",
    "Z3 = linkage(data, method='average', metric='euclidean')\n",
    "\n",
    "# Ward-Linkage\n",
    "'''\n",
    " The Ward method attempts to minimize the sum of the squared distances of the points from the cluster centers.\n",
    " Compared to the distance-based measures, the Ward method is less susceptible to noise and outliers.\n",
    "'''\n",
    "Z4 = linkage(data, method='ward', metric='euclidean')\n",
    "\n",
    "# Centroid-Linkage\n",
    "'''\n",
    " The Ward method attempts to minimize the sum of the squared distances of the points from the cluster centers.\n",
    " Compared to the distance-based measures, the Ward method is less susceptible to noise and outliers.\n",
    "'''\n",
    "Z5 = linkage(data, method='centroid', metric='euclidean')"
   ]
  },
  {
   "cell_type": "code",
   "execution_count": 11,
   "metadata": {
    "colab": {
     "base_uri": "https://localhost:8080/",
     "height": 452
    },
    "executionInfo": {
     "elapsed": 6675,
     "status": "ok",
     "timestamp": 1724160126915,
     "user": {
      "displayName": "Rajendra Varma Bhupathiraju",
      "userId": "12118638011922266193"
     },
     "user_tz": -330
    },
    "id": "32Se0QIf82xc",
    "outputId": "57f1e06d-75b3-4085-fa78-5b95cb6ccbed"
   },
   "outputs": [
    {
     "data": {
      "image/png": "[encoded data removed]",
      "text/plain": [
       "<Figure size 640x480 with 1 Axes>"
      ]
     },
     "metadata": {},
     "output_type": "display_data"
    }
   ],
   "source": [
    "import matplotlib.pyplot as plt\n",
    "\n",
    "# Single linkage dendogram plot\n",
    "plt.plot(2,2,1), dendrogram(Z1), plt.title('Single')\n",
    "plt.show()"
   ]
  },
  {
   "cell_type": "code",
   "execution_count": 13,
   "metadata": {
    "colab": {
     "base_uri": "https://localhost:8080/",
     "height": 452
    },
    "executionInfo": {
     "elapsed": 6356,
     "status": "ok",
     "timestamp": 1724160138454,
     "user": {
      "displayName": "Rajendra Varma Bhupathiraju",
      "userId": "12118638011922266193"
     },
     "user_tz": -330
    },
    "id": "vb9gCo3E85Mg",
    "outputId": "a01ea9f5-b1d4-42f5-c511-a7df056c532e"
   },
   "outputs": [
    {
     "data": {
      "image/png": "[encoded data removed]",
      "text/plain": [
       "<Figure size 640x480 with 1 Axes>"
      ]
     },
     "metadata": {},
     "output_type": "display_data"
    }
   ],
   "source": [
    "\n",
    "# Complete linkage dendogram plot\n",
    "plt.plot(2,2,2), dendrogram(Z2), plt.title('Complete')\n",
    "plt.show()"
   ]
  },
  {
   "cell_type": "code",
   "execution_count": 15,
   "metadata": {
    "colab": {
     "base_uri": "https://localhost:8080/",
     "height": 452
    },
    "executionInfo": {
     "elapsed": 3232,
     "status": "ok",
     "timestamp": 1724160144031,
     "user": {
      "displayName": "Rajendra Varma Bhupathiraju",
      "userId": "12118638011922266193"
     },
     "user_tz": -330
    },
    "id": "upPeV6QV88E7",
    "outputId": "f55d4feb-8588-4fe0-c8ce-aa06c05d8fbb"
   },
   "outputs": [
    {
     "data": {
      "image/png": "[encoded data removed]",
      "text/plain": [
       "<Figure size 640x480 with 1 Axes>"
      ]
     },
     "metadata": {},
     "output_type": "display_data"
    }
   ],
   "source": [
    "# Average linkage dendogram plot\n",
    "plt.plot(2,2,3), dendrogram(Z3), plt.title('Average')\n",
    "plt.show()"
   ]
  },
  {
   "cell_type": "code",
   "execution_count": 17,
   "metadata": {
    "colab": {
     "base_uri": "https://localhost:8080/",
     "height": 452
    },
    "executionInfo": {
     "elapsed": 2547,
     "status": "ok",
     "timestamp": 1724160154043,
     "user": {
      "displayName": "Rajendra Varma Bhupathiraju",
      "userId": "12118638011922266193"
     },
     "user_tz": -330
    },
    "id": "u_eUYHtJ8-N_",
    "outputId": "574f1dbe-2459-46a7-f824-dac3d3d85fa2"
   },
   "outputs": [
    {
     "data": {
      "image/png": "[encoded data removed]",
      "text/plain": [
       "<Figure size 640x480 with 1 Axes>"
      ]
     },
     "metadata": {},
     "output_type": "display_data"
    }
   ],
   "source": [
    "# Ward linkage dendogram plot\n",
    "plt.plot(2,2,4), dendrogram(Z4), plt.title('Ward')\n",
    "plt.show()"
   ]
  },
  {
   "cell_type": "code",
   "execution_count": null,
   "metadata": {
    "colab": {
     "base_uri": "https://localhost:8080/",
     "height": 452
    },
    "executionInfo": {
     "elapsed": 3607,
     "status": "ok",
     "timestamp": 1724160162054,
     "user": {
      "displayName": "Rajendra Varma Bhupathiraju",
      "userId": "12118638011922266193"
     },
     "user_tz": -330
    },
    "id": "BkELR_i49A1c",
    "outputId": "48806872-2e62-474e-f589-b3770251780a"
   },
   "outputs": [],
   "source": [
    "# Ward linkage dendogram plot\n",
    "plt.plot(2,2,4), dendrogram(Z4), plt.title('Ward')\n",
    "plt.show()"
   ]
  },
  {
   "cell_type": "markdown",
   "metadata": {},
   "source": [
    "***Post Pruning***"
   ]
  },
  {
   "cell_type": "code",
   "execution_count": 22,
   "metadata": {
    "colab": {
     "base_uri": "https://localhost:8080/"
    },
    "executionInfo": {
     "elapsed": 444,
     "status": "ok",
     "timestamp": 1724160185221,
     "user": {
      "displayName": "Rajendra Varma Bhupathiraju",
      "userId": "12118638011922266193"
     },
     "user_tz": -330
    },
    "id": "EM07T95a9Chu",
    "outputId": "bcfc9b11-25c6-4aee-97cf-b524b06c2b78"
   },
   "outputs": [
    {
     "name": "stdout",
     "output_type": "stream",
     "text": [
      "Clusters: [1 1 1 1 2 1 1 1 1 1 1 1 1 1 1 1 1 1 1 2 2 2 1 1 2 2 1 1 2 1 1 1 1 1 1 2 2\n",
      " 1 1 2 2 1 1 2 2 1 1 1 1 1 1 1 1 1 1 1 1 1 1 3 2 3 2 3 3 2 3 3 2 2 2 3 3 1\n",
      " 2 3 3 3 2 3 3 2 2 3 3 3 3 3 2 2 3 3 3 3 3 1 2 3 2 3 2 3 3 3 2 3 3 3 3 2 3\n",
      " 3 3 3 3 3 3 3 3 3 2 3 3 3 3 3 3 3 3 3 2 3 3 3 2 2 2 3 3 3 3 2 3 3 2 2 3 2\n",
      " 2 3 3 3 3 2 2 2 3 2 2 2 3 2 3 2 2 3 2 2 2 2 3 3 2 2 2 2 2 3]\n"
     ]
    }
   ],
   "source": [
    "from scipy.cluster.hierarchy import fcluster\n",
    "\n",
    "c = fcluster(Z4, 3, criterion='maxclust')\n",
    "\n",
    "print(f\"Clusters: {c}\")"
   ]
  },
  {
   "cell_type": "markdown",
   "metadata": {
    "id": "nd3Qd-KR9Mfi"
   },
   "source": [
    "# **Cluster evaluation with Ground Truth**\n",
    "**Rand index**\n",
    "\n",
    "Given the knowledge of the ground truth class assignments labels_true and our clustering algorithm assignments of the same samples labels_pred, the (adjusted or unadjusted) Rand index is a function that measures the similarity of the two assignments, ignoring permutations:"
   ]
  },
  {
   "cell_type": "code",
   "execution_count": 25,
   "metadata": {
    "colab": {
     "base_uri": "https://localhost:8080/"
    },
    "executionInfo": {
     "elapsed": 1577,
     "status": "ok",
     "timestamp": 1724160219773,
     "user": {
      "displayName": "Rajendra Varma Bhupathiraju",
      "userId": "12118638011922266193"
     },
     "user_tz": -330
    },
    "id": "CC5ooAPg9I9C",
    "outputId": "0a708aec-fca1-4958-8199-99e8ff3aff7a"
   },
   "outputs": [
    {
     "data": {
      "text/plain": [
       "0.7171967244334413"
      ]
     },
     "execution_count": 25,
     "metadata": {},
     "output_type": "execute_result"
    }
   ],
   "source": [
    "from sklearn import metrics\n",
    "\n",
    "labels_true = Y\n",
    "labels_pred = c\n",
    "\n",
    "metrics.rand_score(Y, c)"
   ]
  },
  {
   "cell_type": "markdown",
   "metadata": {
    "id": "-sX8Ct6j9Vcl"
   },
   "source": [
    "The Rand index does not ensure to obtain a value close to 0.0 for a random labelling. The adjusted Rand index corrects for chance and will give such a baseline.\n",
    "\n",
    "1. As with all clustering metrics, one can permute 0 and 1 in the predicted labels, rename 2 to 3, and get the same score.\n",
    "\n",
    "2. Perfect labeling is scored 1.0\n",
    "\n",
    "3. Poorly agreeing labels have lower scores, and for the adjusted Rand index the score will be negative or close to zero.\n",
    "\n",
    "4. However, for the unadjusted Rand index the score, while lower, will not necessarily be close to zero"
   ]
  },
  {
   "cell_type": "code",
   "execution_count": 28,
   "metadata": {
    "colab": {
     "base_uri": "https://localhost:8080/"
    },
    "executionInfo": {
     "elapsed": 426,
     "status": "ok",
     "timestamp": 1724160265285,
     "user": {
      "displayName": "Rajendra Varma Bhupathiraju",
      "userId": "12118638011922266193"
     },
     "user_tz": -330
    },
    "id": "urLiMABM9cI0",
    "outputId": "b5014e39-7d68-4ad5-ae70-a8a70b3a1316"
   },
   "outputs": [
    {
     "data": {
      "text/plain": [
       "0.36840191587483156"
      ]
     },
     "execution_count": 28,
     "metadata": {},
     "output_type": "execute_result"
    }
   ],
   "source": [
    "metrics.adjusted_rand_score(labels_true, labels_pred)"
   ]
  },
  {
   "cell_type": "markdown",
   "metadata": {
    "id": "1qoMBRAV9fH9"
   },
   "source": [
    "**Mutual Information based scores**\n",
    "\n",
    "The Mutual Information is a function that measures the agreement of the two assignments, ignoring permutations. Two different normalized versions of this measure are available, Normalized Mutual Information (NMI) and Adjusted Mutual Information (AMI). NMI is often used in the literature, while AMI was proposed more recently and is normalized against chance:\n",
    "\n",
    "1. One can permute 0 and 1 in the predicted labels, rename 2 to 3 and get the same score\n",
    "\n",
    "2. All, mutual_info_score, adjusted_mutual_info_score and normalized_mutual_info_score are symmetric: swapping the argument does not change the score.\n",
    "\n",
    "3. Perfect labeling is scored 1.0; this is not true for mutual_info_score, which is therefore harder to judge.\n",
    "\n",
    "4. Bad (e.g. independent labelings) have non-positive scores."
   ]
  },
  {
   "cell_type": "code",
   "execution_count": 31,
   "metadata": {
    "colab": {
     "base_uri": "https://localhost:8080/"
    },
    "executionInfo": {
     "elapsed": 477,
     "status": "ok",
     "timestamp": 1724160310286,
     "user": {
      "displayName": "Rajendra Varma Bhupathiraju",
      "userId": "12118638011922266193"
     },
     "user_tz": -330
    },
    "id": "u70T3giT9cgu",
    "outputId": "b0e0cbef-6281-4a3f-c28a-ac97ba669d00"
   },
   "outputs": [
    {
     "data": {
      "text/plain": [
       "0.4098675056576432"
      ]
     },
     "execution_count": 31,
     "metadata": {},
     "output_type": "execute_result"
    }
   ],
   "source": [
    "metrics.adjusted_mutual_info_score(labels_true, labels_pred)"
   ]
  },
  {
   "cell_type": "markdown",
   "metadata": {
    "id": "W0rtrXVl9qqa"
   },
   "source": [
    "**Homogeneity, completeness and V-measure**\n",
    "\n",
    "* Homogeneity: Each cluster contains only members of a single class.\n",
    "* Completeness: All members of a given class are assigned to the same cluster.\n",
    "* Their harmonic mean called V-measure is computed by v_measure_score.\n",
    "1. 0.0 is as bad as it can be, 1.0 is a perfect score.\n",
    "2. beta is by default = 1; To change the hyperparameter use:\n",
    "        metrics.v_measure_score(labels_true, labels_pred, beta=0.6)\n",
    "\n",
    "3. More weight will be attributed to homogeneity, and using a value greater than 1."
   ]
  },
  {
   "cell_type": "code",
   "execution_count": 34,
   "metadata": {
    "colab": {
     "base_uri": "https://localhost:8080/"
    },
    "executionInfo": {
     "elapsed": 439,
     "status": "ok",
     "timestamp": 1724160423941,
     "user": {
      "displayName": "Rajendra Varma Bhupathiraju",
      "userId": "12118638011922266193"
     },
     "user_tz": -330
    },
    "id": "DLwIrLFH9neq",
    "outputId": "fba232db-2291-480e-87f6-4463873e2c81"
   },
   "outputs": [
    {
     "data": {
      "text/plain": [
       "0.4158606952333367"
      ]
     },
     "execution_count": 34,
     "metadata": {},
     "output_type": "execute_result"
    }
   ],
   "source": [
    "metrics.homogeneity_score(labels_true, labels_pred)"
   ]
  },
  {
   "cell_type": "code",
   "execution_count": 36,
   "metadata": {
    "colab": {
     "base_uri": "https://localhost:8080/"
    },
    "executionInfo": {
     "elapsed": 457,
     "status": "ok",
     "timestamp": 1724160430772,
     "user": {
      "displayName": "Rajendra Varma Bhupathiraju",
      "userId": "12118638011922266193"
     },
     "user_tz": -330
    },
    "id": "jkJfwOgd-DPQ",
    "outputId": "6debb389-c29c-4438-bd57-2d7a491cf7a5"
   },
   "outputs": [
    {
     "data": {
      "text/plain": [
       "0.4162928371602123"
      ]
     },
     "execution_count": 36,
     "metadata": {},
     "output_type": "execute_result"
    }
   ],
   "source": [
    "metrics.completeness_score(labels_true, labels_pred)"
   ]
  },
  {
   "cell_type": "code",
   "execution_count": 38,
   "metadata": {
    "colab": {
     "base_uri": "https://localhost:8080/"
    },
    "executionInfo": {
     "elapsed": 468,
     "status": "ok",
     "timestamp": 1724160437939,
     "user": {
      "displayName": "Rajendra Varma Bhupathiraju",
      "userId": "12118638011922266193"
     },
     "user_tz": -330
    },
    "id": "eXpCV31q-E5f",
    "outputId": "b40e4e83-1d67-4c49-a537-f962a525587d"
   },
   "outputs": [
    {
     "data": {
      "text/plain": [
       "0.41607665398992943"
      ]
     },
     "execution_count": 38,
     "metadata": {},
     "output_type": "execute_result"
    }
   ],
   "source": [
    "metrics.v_measure_score(labels_true, labels_pred)"
   ]
  },
  {
   "cell_type": "markdown",
   "metadata": {
    "id": "kzFILPDJ-I1b"
   },
   "source": [
    "**Fowlkes-Mallows scores**\n",
    "\n",
    "The Fowlkes-Mallows score FMI is defined as the geometric mean of the pairwise precision and recall.\n",
    "\n",
    "1. The score ranges from 0 to 1. A high value indicates a good similarity between two clusters.\n",
    "\n",
    "2. One can permute 0 and 1 in the predicted labels, rename 2 to 3 and get the same score.\n",
    "\n",
    "3. Perfect labeling is scored 1.0\n",
    "\n",
    "4. Bad (e.g. independent labelings) have zero scores."
   ]
  },
  {
   "cell_type": "code",
   "execution_count": 41,
   "metadata": {
    "colab": {
     "base_uri": "https://localhost:8080/"
    },
    "executionInfo": {
     "elapsed": 447,
     "status": "ok",
     "timestamp": 1724160492095,
     "user": {
      "displayName": "Rajendra Varma Bhupathiraju",
      "userId": "12118638011922266193"
     },
     "user_tz": -330
    },
    "id": "MxreVKrV-Gpg",
    "outputId": "a6d076cf-dc38-4be8-c785-848cc0a2e2f1"
   },
   "outputs": [
    {
     "data": {
      "text/plain": [
       "0.5821221849687703"
      ]
     },
     "execution_count": 41,
     "metadata": {},
     "output_type": "execute_result"
    }
   ],
   "source": [
    "metrics.fowlkes_mallows_score(labels_true, labels_pred)"
   ]
  }
 ],
 "metadata": {
  "colab": {
   "authorship_tag": "ABX9TyMICVhzi/BcbzgtLWGHQx4+",
   "provenance": []
  },
  "kernelspec": {
   "display_name": "Python 3 (ipykernel)",
   "language": "python",
   "name": "python3"
  },
  "language_info": {
   "codemirror_mode": {
    "name": "ipython",
    "version": 3
   },
   "file_extension": ".py",
   "mimetype": "text/x-python",
   "name": "python",
   "nbconvert_exporter": "python",
   "pygments_lexer": "ipython3",
   "version": "3.12.4"
  }
 },
 "nbformat": 4,
 "nbformat_minor": 4
}
