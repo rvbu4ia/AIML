{
 "cells": [
  {
   "cell_type": "code",
   "execution_count": 5,
   "metadata": {
    "colab": {
     "base_uri": "https://localhost:8080/",
     "height": 226
    },
    "executionInfo": {
     "elapsed": 2057,
     "status": "ok",
     "timestamp": 1724158590967,
     "user": {
      "displayName": "Rajendra Varma Bhupathiraju",
      "userId": "12118638011922266193"
     },
     "user_tz": -330
    },
    "id": "xhMOHbV43Abq",
    "outputId": "5154126d-73f4-4076-cfbb-9575ccf5f60b"
   },
   "outputs": [
    {
     "data": {
      "text/html": [
       "<div>\n",
       "<style scoped>\n",
       "    .dataframe tbody tr th:only-of-type {\n",
       "        vertical-align: middle;\n",
       "    }\n",
       "\n",
       "    .dataframe tbody tr th {\n",
       "        vertical-align: top;\n",
       "    }\n",
       "\n",
       "    .dataframe thead th {\n",
       "        text-align: right;\n",
       "    }\n",
       "</style>\n",
       "<table border=\"1\" class=\"dataframe\">\n",
       "  <thead>\n",
       "    <tr style=\"text-align: right;\">\n",
       "      <th></th>\n",
       "      <th>Class</th>\n",
       "      <th>Alcohol</th>\n",
       "      <th>MalicAcid</th>\n",
       "      <th>Ash</th>\n",
       "      <th>AlcalinityOfAsh</th>\n",
       "      <th>Magnesium</th>\n",
       "      <th>TotalPhenols</th>\n",
       "      <th>Flavanoids</th>\n",
       "      <th>NonflavanoidPhenols</th>\n",
       "      <th>Proanthocyanins</th>\n",
       "      <th>ColorIntensity</th>\n",
       "      <th>Hue</th>\n",
       "      <th>OD280/OD315</th>\n",
       "      <th>Proline</th>\n",
       "    </tr>\n",
       "  </thead>\n",
       "  <tbody>\n",
       "    <tr>\n",
       "      <th>0</th>\n",
       "      <td>1</td>\n",
       "      <td>14.23</td>\n",
       "      <td>1.71</td>\n",
       "      <td>2.43</td>\n",
       "      <td>15.6</td>\n",
       "      <td>127</td>\n",
       "      <td>2.80</td>\n",
       "      <td>3.06</td>\n",
       "      <td>0.28</td>\n",
       "      <td>2.29</td>\n",
       "      <td>5.64</td>\n",
       "      <td>1.04</td>\n",
       "      <td>3.92</td>\n",
       "      <td>1065</td>\n",
       "    </tr>\n",
       "    <tr>\n",
       "      <th>1</th>\n",
       "      <td>1</td>\n",
       "      <td>13.20</td>\n",
       "      <td>1.78</td>\n",
       "      <td>2.14</td>\n",
       "      <td>11.2</td>\n",
       "      <td>100</td>\n",
       "      <td>2.65</td>\n",
       "      <td>2.76</td>\n",
       "      <td>0.26</td>\n",
       "      <td>1.28</td>\n",
       "      <td>4.38</td>\n",
       "      <td>1.05</td>\n",
       "      <td>3.40</td>\n",
       "      <td>1050</td>\n",
       "    </tr>\n",
       "    <tr>\n",
       "      <th>2</th>\n",
       "      <td>1</td>\n",
       "      <td>13.16</td>\n",
       "      <td>2.36</td>\n",
       "      <td>2.67</td>\n",
       "      <td>18.6</td>\n",
       "      <td>101</td>\n",
       "      <td>2.80</td>\n",
       "      <td>3.24</td>\n",
       "      <td>0.30</td>\n",
       "      <td>2.81</td>\n",
       "      <td>5.68</td>\n",
       "      <td>1.03</td>\n",
       "      <td>3.17</td>\n",
       "      <td>1185</td>\n",
       "    </tr>\n",
       "    <tr>\n",
       "      <th>3</th>\n",
       "      <td>1</td>\n",
       "      <td>14.37</td>\n",
       "      <td>1.95</td>\n",
       "      <td>2.50</td>\n",
       "      <td>16.8</td>\n",
       "      <td>113</td>\n",
       "      <td>3.85</td>\n",
       "      <td>3.49</td>\n",
       "      <td>0.24</td>\n",
       "      <td>2.18</td>\n",
       "      <td>7.80</td>\n",
       "      <td>0.86</td>\n",
       "      <td>3.45</td>\n",
       "      <td>1480</td>\n",
       "    </tr>\n",
       "    <tr>\n",
       "      <th>4</th>\n",
       "      <td>1</td>\n",
       "      <td>13.24</td>\n",
       "      <td>2.59</td>\n",
       "      <td>2.87</td>\n",
       "      <td>21.0</td>\n",
       "      <td>118</td>\n",
       "      <td>2.80</td>\n",
       "      <td>2.69</td>\n",
       "      <td>0.39</td>\n",
       "      <td>1.82</td>\n",
       "      <td>4.32</td>\n",
       "      <td>1.04</td>\n",
       "      <td>2.93</td>\n",
       "      <td>735</td>\n",
       "    </tr>\n",
       "  </tbody>\n",
       "</table>\n",
       "</div>"
      ],
      "text/plain": [
       "   Class  Alcohol  MalicAcid   Ash  AlcalinityOfAsh  Magnesium  TotalPhenols  \\\n",
       "0      1    14.23       1.71  2.43             15.6        127          2.80   \n",
       "1      1    13.20       1.78  2.14             11.2        100          2.65   \n",
       "2      1    13.16       2.36  2.67             18.6        101          2.80   \n",
       "3      1    14.37       1.95  2.50             16.8        113          3.85   \n",
       "4      1    13.24       2.59  2.87             21.0        118          2.80   \n",
       "\n",
       "   Flavanoids  NonflavanoidPhenols  Proanthocyanins  ColorIntensity   Hue  \\\n",
       "0        3.06                 0.28             2.29            5.64  1.04   \n",
       "1        2.76                 0.26             1.28            4.38  1.05   \n",
       "2        3.24                 0.30             2.81            5.68  1.03   \n",
       "3        3.49                 0.24             2.18            7.80  0.86   \n",
       "4        2.69                 0.39             1.82            4.32  1.04   \n",
       "\n",
       "   OD280/OD315  Proline  \n",
       "0         3.92     1065  \n",
       "1         3.40     1050  \n",
       "2         3.17     1185  \n",
       "3         3.45     1480  \n",
       "4         2.93      735  "
      ]
     },
     "execution_count": 5,
     "metadata": {},
     "output_type": "execute_result"
    }
   ],
   "source": [
    "import pandas as pd\n",
    "\n",
    "cols =  ['Class', 'Alcohol', 'MalicAcid', 'Ash', 'AlcalinityOfAsh', 'Magnesium', 'TotalPhenols',\n",
    "         'Flavanoids', 'NonflavanoidPhenols', 'Proanthocyanins', 'ColorIntensity',\n",
    "         'Hue', 'OD280/OD315', 'Proline']\n",
    "\n",
    "D = pd.read_csv(\"wine.csv\", names=cols)\n",
    "D.head()"
   ]
  },
  {
   "cell_type": "code",
   "execution_count": 7,
   "metadata": {
    "colab": {
     "base_uri": "https://localhost:8080/"
    },
    "executionInfo": {
     "elapsed": 390,
     "status": "ok",
     "timestamp": 1724158623212,
     "user": {
      "displayName": "Rajendra Varma Bhupathiraju",
      "userId": "12118638011922266193"
     },
     "user_tz": -330
    },
    "id": "wOQR-5X53K2f",
    "outputId": "c4a7ea66-20d6-44f8-ff63-6bffd5844a49"
   },
   "outputs": [
    {
     "name": "stdout",
     "output_type": "stream",
     "text": [
      "[1 2 3]\n",
      "No.of.unique values : 3\n"
     ]
    }
   ],
   "source": [
    "unique = pd.unique(D['Class'])\n",
    "print(unique)\n",
    "n = len(unique)\n",
    "\n",
    "print(\"No.of.unique values :\", n)"
   ]
  },
  {
   "cell_type": "code",
   "execution_count": 9,
   "metadata": {
    "colab": {
     "base_uri": "https://localhost:8080/"
    },
    "executionInfo": {
     "elapsed": 403,
     "status": "ok",
     "timestamp": 1724158641441,
     "user": {
      "displayName": "Rajendra Varma Bhupathiraju",
      "userId": "12118638011922266193"
     },
     "user_tz": -330
    },
    "id": "IhAZ2i2t3PYf",
    "outputId": "d9490fce-8271-4fdf-e3ee-e6af8de57e15"
   },
   "outputs": [
    {
     "name": "stdout",
     "output_type": "stream",
     "text": [
      "0      1\n",
      "1      1\n",
      "2      1\n",
      "3      1\n",
      "4      1\n",
      "      ..\n",
      "173    3\n",
      "174    3\n",
      "175    3\n",
      "176    3\n",
      "177    3\n",
      "Name: Class, Length: 178, dtype: int64\n"
     ]
    }
   ],
   "source": [
    "Y = D['Class']\n",
    "print(Y)"
   ]
  },
  {
   "cell_type": "code",
   "execution_count": 11,
   "metadata": {
    "colab": {
     "base_uri": "https://localhost:8080/"
    },
    "executionInfo": {
     "elapsed": 421,
     "status": "ok",
     "timestamp": 1724158656806,
     "user": {
      "displayName": "Rajendra Varma Bhupathiraju",
      "userId": "12118638011922266193"
     },
     "user_tz": -330
    },
    "id": "-2sSt8kW3Q7y",
    "outputId": "4a8dc210-4b00-4ba8-d319-89057847c726"
   },
   "outputs": [
    {
     "name": "stdout",
     "output_type": "stream",
     "text": [
      "     Alcohol  MalicAcid   Ash  AlcalinityOfAsh  Magnesium  TotalPhenols  \\\n",
      "0      14.23       1.71  2.43             15.6        127          2.80   \n",
      "1      13.20       1.78  2.14             11.2        100          2.65   \n",
      "2      13.16       2.36  2.67             18.6        101          2.80   \n",
      "3      14.37       1.95  2.50             16.8        113          3.85   \n",
      "4      13.24       2.59  2.87             21.0        118          2.80   \n",
      "..       ...        ...   ...              ...        ...           ...   \n",
      "173    13.71       5.65  2.45             20.5         95          1.68   \n",
      "174    13.40       3.91  2.48             23.0        102          1.80   \n",
      "175    13.27       4.28  2.26             20.0        120          1.59   \n",
      "176    13.17       2.59  2.37             20.0        120          1.65   \n",
      "177    14.13       4.10  2.74             24.5         96          2.05   \n",
      "\n",
      "     Flavanoids  NonflavanoidPhenols  Proanthocyanins  ColorIntensity   Hue  \\\n",
      "0          3.06                 0.28             2.29            5.64  1.04   \n",
      "1          2.76                 0.26             1.28            4.38  1.05   \n",
      "2          3.24                 0.30             2.81            5.68  1.03   \n",
      "3          3.49                 0.24             2.18            7.80  0.86   \n",
      "4          2.69                 0.39             1.82            4.32  1.04   \n",
      "..          ...                  ...              ...             ...   ...   \n",
      "173        0.61                 0.52             1.06            7.70  0.64   \n",
      "174        0.75                 0.43             1.41            7.30  0.70   \n",
      "175        0.69                 0.43             1.35           10.20  0.59   \n",
      "176        0.68                 0.53             1.46            9.30  0.60   \n",
      "177        0.76                 0.56             1.35            9.20  0.61   \n",
      "\n",
      "     OD280/OD315  Proline  \n",
      "0           3.92     1065  \n",
      "1           3.40     1050  \n",
      "2           3.17     1185  \n",
      "3           3.45     1480  \n",
      "4           2.93      735  \n",
      "..           ...      ...  \n",
      "173         1.74      740  \n",
      "174         1.56      750  \n",
      "175         1.56      835  \n",
      "176         1.62      840  \n",
      "177         1.60      560  \n",
      "\n",
      "[178 rows x 13 columns]\n"
     ]
    }
   ],
   "source": [
    "X = D.loc[:, D.columns != 'Class']\n",
    "print(X)"
   ]
  },
  {
   "cell_type": "code",
   "execution_count": 13,
   "metadata": {
    "executionInfo": {
     "elapsed": 4176,
     "status": "ok",
     "timestamp": 1724158696340,
     "user": {
      "displayName": "Rajendra Varma Bhupathiraju",
      "userId": "12118638011922266193"
     },
     "user_tz": -330
    },
    "id": "sv2fJkp03YHN"
   },
   "outputs": [],
   "source": [
    "from sklearn.decomposition import PCA\n",
    "\n",
    "X_norm = (X - X.min())/(X.max() - X.min())\n",
    "\n",
    "pca = PCA(n_components=2) #2-dimensional PCA\n",
    "transformed = pd.DataFrame(pca.fit_transform(X_norm))"
   ]
  },
  {
   "cell_type": "code",
   "execution_count": 15,
   "metadata": {
    "colab": {
     "base_uri": "https://localhost:8080/"
    },
    "executionInfo": {
     "elapsed": 394,
     "status": "ok",
     "timestamp": 1724158721401,
     "user": {
      "displayName": "Rajendra Varma Bhupathiraju",
      "userId": "12118638011922266193"
     },
     "user_tz": -330
    },
    "id": "zQBjFyF73hoo",
    "outputId": "4cd139ba-c134-40c6-86a6-b24275ff5e94"
   },
   "outputs": [
    {
     "name": "stdout",
     "output_type": "stream",
     "text": [
      "            0         1\n",
      "0   -0.706336 -0.253193\n",
      "1   -0.484977 -0.008823\n",
      "2   -0.521172 -0.189187\n",
      "3   -0.821644 -0.580906\n",
      "4   -0.202546 -0.059467\n",
      "..        ...       ...\n",
      "173  0.739510 -0.471901\n",
      "174  0.581781 -0.348366\n",
      "175  0.626313 -0.546857\n",
      "176  0.572991 -0.425516\n",
      "177  0.701764 -0.513505\n",
      "\n",
      "[178 rows x 2 columns]\n"
     ]
    }
   ],
   "source": [
    "print(transformed)"
   ]
  },
  {
   "cell_type": "code",
   "execution_count": 17,
   "metadata": {
    "colab": {
     "base_uri": "https://localhost:8080/",
     "height": 430
    },
    "executionInfo": {
     "elapsed": 1138,
     "status": "ok",
     "timestamp": 1724158737100,
     "user": {
      "displayName": "Rajendra Varma Bhupathiraju",
      "userId": "12118638011922266193"
     },
     "user_tz": -330
    },
    "id": "-tdxSX-j3mwO",
    "outputId": "f085289f-71f4-446c-d8cc-ffe1f36efa2c"
   },
   "outputs": [
    {
     "data": {
      "image/png": "[encoded data removed]",
      "text/plain": [
       "<Figure size 640x480 with 1 Axes>"
      ]
     },
     "metadata": {},
     "output_type": "display_data"
    }
   ],
   "source": [
    "import matplotlib.pyplot as plt\n",
    "\n",
    "plt.scatter(transformed[0], transformed[1])\n",
    "plt.show()"
   ]
  },
  {
   "cell_type": "code",
   "execution_count": 18,
   "metadata": {
    "colab": {
     "base_uri": "https://localhost:8080/",
     "height": 430
    },
    "executionInfo": {
     "elapsed": 1367,
     "status": "ok",
     "timestamp": 1724158774300,
     "user": {
      "displayName": "Rajendra Varma Bhupathiraju",
      "userId": "12118638011922266193"
     },
     "user_tz": -330
    },
    "id": "ZrFcL1vq3v8W",
    "outputId": "7b61cf50-ca1a-4f96-871f-3a251f93a286"
   },
   "outputs": [
    {
     "data": {
      "image/png": "[encoded data removed]",
      "text/plain": [
       "<Figure size 640x480 with 1 Axes>"
      ]
     },
     "metadata": {},
     "output_type": "display_data"
    }
   ],
   "source": [
    "import matplotlib.pyplot as plt\n",
    "\n",
    "x = transformed[0]\n",
    "y = transformed[1]\n",
    "\n",
    "plt.scatter(x, y, color='black')\n",
    "plt.show()"
   ]
  },
  {
   "cell_type": "code",
   "execution_count": 19,
   "metadata": {
    "colab": {
     "base_uri": "https://localhost:8080/",
     "height": 472
    },
    "executionInfo": {
     "elapsed": 1131,
     "status": "ok",
     "timestamp": 1724158796811,
     "user": {
      "displayName": "Rajendra Varma Bhupathiraju",
      "userId": "12118638011922266193"
     },
     "user_tz": -330
    },
    "id": "htD9cFWZ30rw",
    "outputId": "c80e7c33-8f08-475e-ce2e-f9e7f16f5e88"
   },
   "outputs": [
    {
     "name": "stderr",
     "output_type": "stream",
     "text": [
      "C:\\Users\\Rajendra Varma\\anaconda3\\Lib\\site-packages\\sklearn\\cluster\\_kmeans.py:1446: UserWarning: KMeans is known to have a memory leak on Windows with MKL, when there are less chunks than available threads. You can avoid it by setting the environment variable OMP_NUM_THREADS=1.\n",
      "  warnings.warn(\n",
      "C:\\Users\\Rajendra Varma\\anaconda3\\Lib\\site-packages\\sklearn\\cluster\\_kmeans.py:1446: UserWarning: KMeans is known to have a memory leak on Windows with MKL, when there are less chunks than available threads. You can avoid it by setting the environment variable OMP_NUM_THREADS=1.\n",
      "  warnings.warn(\n",
      "C:\\Users\\Rajendra Varma\\anaconda3\\Lib\\site-packages\\sklearn\\cluster\\_kmeans.py:1446: UserWarning: KMeans is known to have a memory leak on Windows with MKL, when there are less chunks than available threads. You can avoid it by setting the environment variable OMP_NUM_THREADS=1.\n",
      "  warnings.warn(\n",
      "C:\\Users\\Rajendra Varma\\anaconda3\\Lib\\site-packages\\sklearn\\cluster\\_kmeans.py:1446: UserWarning: KMeans is known to have a memory leak on Windows with MKL, when there are less chunks than available threads. You can avoid it by setting the environment variable OMP_NUM_THREADS=1.\n",
      "  warnings.warn(\n",
      "C:\\Users\\Rajendra Varma\\anaconda3\\Lib\\site-packages\\sklearn\\cluster\\_kmeans.py:1446: UserWarning: KMeans is known to have a memory leak on Windows with MKL, when there are less chunks than available threads. You can avoid it by setting the environment variable OMP_NUM_THREADS=1.\n",
      "  warnings.warn(\n",
      "C:\\Users\\Rajendra Varma\\anaconda3\\Lib\\site-packages\\sklearn\\cluster\\_kmeans.py:1446: UserWarning: KMeans is known to have a memory leak on Windows with MKL, when there are less chunks than available threads. You can avoid it by setting the environment variable OMP_NUM_THREADS=1.\n",
      "  warnings.warn(\n",
      "C:\\Users\\Rajendra Varma\\anaconda3\\Lib\\site-packages\\sklearn\\cluster\\_kmeans.py:1446: UserWarning: KMeans is known to have a memory leak on Windows with MKL, when there are less chunks than available threads. You can avoid it by setting the environment variable OMP_NUM_THREADS=1.\n",
      "  warnings.warn(\n",
      "C:\\Users\\Rajendra Varma\\anaconda3\\Lib\\site-packages\\sklearn\\cluster\\_kmeans.py:1446: UserWarning: KMeans is known to have a memory leak on Windows with MKL, when there are less chunks than available threads. You can avoid it by setting the environment variable OMP_NUM_THREADS=1.\n",
      "  warnings.warn(\n",
      "C:\\Users\\Rajendra Varma\\anaconda3\\Lib\\site-packages\\sklearn\\cluster\\_kmeans.py:1446: UserWarning: KMeans is known to have a memory leak on Windows with MKL, when there are less chunks than available threads. You can avoid it by setting the environment variable OMP_NUM_THREADS=1.\n",
      "  warnings.warn(\n",
      "C:\\Users\\Rajendra Varma\\anaconda3\\Lib\\site-packages\\sklearn\\cluster\\_kmeans.py:1446: UserWarning: KMeans is known to have a memory leak on Windows with MKL, when there are less chunks than available threads. You can avoid it by setting the environment variable OMP_NUM_THREADS=1.\n",
      "  warnings.warn(\n"
     ]
    },
    {
     "data": {
      "image/png": "[encoded data removed]",
      "text/plain": [
       "<Figure size 640x480 with 1 Axes>"
      ]
     },
     "metadata": {},
     "output_type": "display_data"
    }
   ],
   "source": [
    "\n",
    "from sklearn.cluster import KMeans\n",
    "\n",
    "data = list(zip(x, y))\n",
    "inertias = []\n",
    "\n",
    "for i in range(1,11):\n",
    "    kmeans = KMeans(n_clusters=i, n_init='auto')\n",
    "    kmeans.fit(data)\n",
    "    inertias.append(kmeans.inertia_)\n",
    "\n",
    "plt.plot(range(1,11), inertias, marker='o')\n",
    "plt.title('Elbow method')\n",
    "plt.xlabel('Number of clusters')\n",
    "plt.ylabel('Inertia')\n",
    "plt.show()"
   ]
  },
  {
   "cell_type": "code",
   "execution_count": 23,
   "metadata": {
    "colab": {
     "base_uri": "https://localhost:8080/"
    },
    "executionInfo": {
     "elapsed": 426,
     "status": "ok",
     "timestamp": 1724158813745,
     "user": {
      "displayName": "Rajendra Varma Bhupathiraju",
      "userId": "12118638011922266193"
     },
     "user_tz": -330
    },
    "id": "foNTBNR235sG",
    "outputId": "a779b2c6-069d-43a1-ab42-cca6fbd70c80"
   },
   "outputs": [
    {
     "name": "stdout",
     "output_type": "stream",
     "text": [
      "[0 0 0 0 0 0 0 0 0 0 0 0 0 0 0 0 0 0 0 0 0 0 0 0 0 0 0 0 0 0 0 0 0 0 0 0 0\n",
      " 0 0 0 0 0 0 0 0 0 0 0 0 0 0 0 0 0 0 0 0 0 0 2 2 1 2 2 2 2 0 2 2 2 2 0 2 0\n",
      " 0 2 2 2 2 2 2 2 2 1 2 2 2 2 2 2 2 2 2 2 2 0 2 2 0 2 2 2 2 2 2 2 2 2 2 2 2\n",
      " 2 2 2 2 2 2 2 1 2 2 2 2 2 2 2 2 2 2 2 1 1 1 1 1 1 1 1 1 1 1 1 1 1 1 1 1 1\n",
      " 1 1 1 1 1 1 1 1 1 1 1 1 1 1 1 1 1 1 1 1 1 1 1 1 1 1 1 1 1 1]\n"
     ]
    },
    {
     "name": "stderr",
     "output_type": "stream",
     "text": [
      "C:\\Users\\Rajendra Varma\\anaconda3\\Lib\\site-packages\\sklearn\\cluster\\_kmeans.py:1446: UserWarning: KMeans is known to have a memory leak on Windows with MKL, when there are less chunks than available threads. You can avoid it by setting the environment variable OMP_NUM_THREADS=1.\n",
      "  warnings.warn(\n"
     ]
    }
   ],
   "source": [
    "from sklearn.cluster import KMeans\n",
    "\n",
    "data = list(zip(x, y))\n",
    "\n",
    "kmeans = KMeans(n_clusters=3, n_init='auto')\n",
    "kmeans.fit(data)\n",
    "\n",
    "c=kmeans.labels_\n",
    "print(c)"
   ]
  },
  {
   "cell_type": "code",
   "execution_count": 25,
   "metadata": {
    "colab": {
     "base_uri": "https://localhost:8080/",
     "height": 430
    },
    "executionInfo": {
     "elapsed": 1426,
     "status": "ok",
     "timestamp": 1724158833142,
     "user": {
      "displayName": "Rajendra Varma Bhupathiraju",
      "userId": "12118638011922266193"
     },
     "user_tz": -330
    },
    "id": "VZOZfkLU3-Nu",
    "outputId": "870061af-1f5a-4f2b-d904-fff037801427"
   },
   "outputs": [
    {
     "data": {
      "image/png": "[encoded data removed]",
      "text/plain": [
       "<Figure size 640x480 with 1 Axes>"
      ]
     },
     "metadata": {},
     "output_type": "display_data"
    }
   ],
   "source": [
    "plt.scatter(x, y, c=c)\n",
    "plt.show()"
   ]
  },
  {
   "cell_type": "markdown",
   "metadata": {
    "id": "E7aOUDbi4CJ6"
   },
   "source": [
    "# **Cluster evaluation with Ground Truth**\n",
    "**Rand index**\n",
    "\n",
    "Given the knowledge of the ground truth class assignments labels_true and our clustering algorithm assignments of the same samples labels_pred, the (adjusted or unadjusted) Rand index is a function that measures the similarity of the two assignments, ignoring permutations:"
   ]
  },
  {
   "cell_type": "code",
   "execution_count": 28,
   "metadata": {
    "colab": {
     "base_uri": "https://localhost:8080/"
    },
    "executionInfo": {
     "elapsed": 482,
     "status": "ok",
     "timestamp": 1724158874632,
     "user": {
      "displayName": "Rajendra Varma Bhupathiraju",
      "userId": "12118638011922266193"
     },
     "user_tz": -330
    },
    "id": "rhXidama4Gv4",
    "outputId": "7edcd740-76cd-49b1-c3eb-394e36911eb6"
   },
   "outputs": [
    {
     "data": {
      "text/plain": [
       "0.9318225099980956"
      ]
     },
     "execution_count": 28,
     "metadata": {},
     "output_type": "execute_result"
    }
   ],
   "source": [
    "from sklearn import metrics\n",
    "\n",
    "labels_true = Y\n",
    "labels_pred = c\n",
    "\n",
    "metrics.rand_score(Y, c)"
   ]
  },
  {
   "cell_type": "markdown",
   "metadata": {
    "id": "2eNIf6Qw4OCQ"
   },
   "source": [
    "The Rand index does not ensure to obtain a value close to 0.0 for a random labelling. The adjusted Rand index corrects for chance and will give such a baseline.\n",
    "\n",
    "1. As with all clustering metrics, one can permute 0 and 1 in the predicted labels, rename 2 to 3, and get the same score.\n",
    "\n",
    "2. Perfect labeling is scored 1.0\n",
    "\n",
    "3. Poorly agreeing labels have lower scores, and for the adjusted Rand index the score will be negative or close to zero.\n",
    "\n",
    "4. However, for the unadjusted Rand index the score, while lower, will not necessarily be close to zero"
   ]
  },
  {
   "cell_type": "code",
   "execution_count": 31,
   "metadata": {
    "colab": {
     "base_uri": "https://localhost:8080/"
    },
    "executionInfo": {
     "elapsed": 415,
     "status": "ok",
     "timestamp": 1724158983593,
     "user": {
      "displayName": "Rajendra Varma Bhupathiraju",
      "userId": "12118638011922266193"
     },
     "user_tz": -330
    },
    "id": "SllQvCMI4P9k",
    "outputId": "1382f5b4-be5f-43ed-beb3-a32cca5b8903"
   },
   "outputs": [
    {
     "data": {
      "text/plain": [
       "0.8470966807514034"
      ]
     },
     "execution_count": 31,
     "metadata": {},
     "output_type": "execute_result"
    }
   ],
   "source": [
    "metrics.adjusted_rand_score(labels_true, labels_pred)"
   ]
  },
  {
   "cell_type": "markdown",
   "metadata": {
    "id": "55GGCtye4my1"
   },
   "source": [
    "Mutual Information based scores\n",
    "\n",
    "The Mutual Information is a function that measures the agreement of the two assignments, ignoring permutations. Two different normalized versions of this measure are available, Normalized Mutual Information (NMI) and Adjusted Mutual Information (AMI). NMI is often used in the literature, while AMI was proposed more recently and is normalized against chance:\n",
    "\n",
    "1. One can permute 0 and 1 in the predicted labels, rename 2 to 3 and get the same score\n",
    "\n",
    "2. All, mutual_info_score, adjusted_mutual_info_score and normalized_mutual_info_score are symmetric: swapping the argument does not change the score.\n",
    "\n",
    "3. Perfect labeling is scored 1.0; this is not true for mutual_info_score, which is therefore harder to judge.\n",
    "\n",
    "4. Bad (e.g. independent labelings) have non-positive scores."
   ]
  },
  {
   "cell_type": "code",
   "execution_count": 34,
   "metadata": {
    "colab": {
     "base_uri": "https://localhost:8080/"
    },
    "executionInfo": {
     "elapsed": 401,
     "status": "ok",
     "timestamp": 1724159036349,
     "user": {
      "displayName": "Rajendra Varma Bhupathiraju",
      "userId": "12118638011922266193"
     },
     "user_tz": -330
    },
    "id": "fvvhjg3m4uZS",
    "outputId": "943698e6-6ce4-4ee3-cf6a-83f5421b638c"
   },
   "outputs": [
    {
     "data": {
      "text/plain": [
       "0.8329081448814433"
      ]
     },
     "execution_count": 34,
     "metadata": {},
     "output_type": "execute_result"
    }
   ],
   "source": [
    "metrics.adjusted_mutual_info_score(labels_true, labels_pred)"
   ]
  },
  {
   "cell_type": "markdown",
   "metadata": {
    "id": "xFrhEKcq40bc"
   },
   "source": [
    "**Homogeneity, completeness and V-measure**\n",
    "\n",
    "*   Homogeneity: Each cluster contains only members of a single class.\n",
    "*   Completeness: All members of a given class are assigned to the same cluster.\n",
    "*   Their harmonic mean called V-measure is computed by v_measure_score.\n",
    "1. 0.0 is as bad as it can be, 1.0 is a perfect score.\n",
    "2. beta is by default = 1; To change the hyperparameter use:\n",
    "         metrics.v_measure_score(labels_true, labels_pred, beta=0.6)\n",
    "\n",
    "3. More weight will be attributed to homogeneity, and using a value greater than 1."
   ]
  },
  {
   "cell_type": "code",
   "execution_count": 37,
   "metadata": {
    "colab": {
     "base_uri": "https://localhost:8080/"
    },
    "executionInfo": {
     "elapsed": 391,
     "status": "ok",
     "timestamp": 1724159254039,
     "user": {
      "displayName": "Rajendra Varma Bhupathiraju",
      "userId": "12118638011922266193"
     },
     "user_tz": -330
    },
    "id": "2VTAFuz34wem",
    "outputId": "db6cc021-5b8a-445f-bba4-3e71ce8920ef"
   },
   "outputs": [
    {
     "data": {
      "text/plain": [
       "0.8374696534711392"
      ]
     },
     "execution_count": 37,
     "metadata": {},
     "output_type": "execute_result"
    }
   ],
   "source": [
    "metrics.homogeneity_score(labels_true, labels_pred)"
   ]
  },
  {
   "cell_type": "code",
   "execution_count": 39,
   "metadata": {
    "colab": {
     "base_uri": "https://localhost:8080/"
    },
    "executionInfo": {
     "elapsed": 425,
     "status": "ok",
     "timestamp": 1724159267761,
     "user": {
      "displayName": "Rajendra Varma Bhupathiraju",
      "userId": "12118638011922266193"
     },
     "user_tz": -330
    },
    "id": "e_8iLpKk5oeY",
    "outputId": "3f441d05-cefd-4800-952a-807dd08797fd"
   },
   "outputs": [
    {
     "data": {
      "text/plain": [
       "0.8318668502263008"
      ]
     },
     "execution_count": 39,
     "metadata": {},
     "output_type": "execute_result"
    }
   ],
   "source": [
    "metrics.completeness_score(labels_true, labels_pred)"
   ]
  },
  {
   "cell_type": "code",
   "execution_count": 41,
   "metadata": {
    "colab": {
     "base_uri": "https://localhost:8080/"
    },
    "executionInfo": {
     "elapsed": 421,
     "status": "ok",
     "timestamp": 1724159274844,
     "user": {
      "displayName": "Rajendra Varma Bhupathiraju",
      "userId": "12118638011922266193"
     },
     "user_tz": -330
    },
    "id": "cOKTPrtH5o-g",
    "outputId": "44b15496-036b-483e-bde0-f35bd8939e3b"
   },
   "outputs": [
    {
     "data": {
      "text/plain": [
       "0.8346588494891205"
      ]
     },
     "execution_count": 41,
     "metadata": {},
     "output_type": "execute_result"
    }
   ],
   "source": [
    "metrics.v_measure_score(labels_true, labels_pred)"
   ]
  },
  {
   "cell_type": "markdown",
   "metadata": {
    "id": "h4nBNL-N5vbz"
   },
   "source": [
    "**Fowlkes-Mallows scores**\n",
    "\n",
    "The Fowlkes-Mallows score FMI is defined as the geometric mean of the pairwise precision and recall.\n",
    "\n",
    "1. The score ranges from 0 to 1. A high value indicates a good similarity between two clusters.\n",
    "\n",
    "2. One can permute 0 and 1 in the predicted labels, rename 2 to 3 and get the same score.\n",
    "\n",
    "3. Perfect labeling is scored 1.0\n",
    "\n",
    "4. Bad (e.g. independent labelings) have zero scores."
   ]
  },
  {
   "cell_type": "code",
   "execution_count": 44,
   "metadata": {
    "colab": {
     "base_uri": "https://localhost:8080/"
    },
    "executionInfo": {
     "elapsed": 408,
     "status": "ok",
     "timestamp": 1724159329139,
     "user": {
      "displayName": "Rajendra Varma Bhupathiraju",
      "userId": "12118638011922266193"
     },
     "user_tz": -330
    },
    "id": "SY3vv3t352J7",
    "outputId": "e99a3667-ed2f-4411-8298-b3a76d1e95f7"
   },
   "outputs": [
    {
     "data": {
      "text/plain": [
       "0.8984161365917068"
      ]
     },
     "execution_count": 44,
     "metadata": {},
     "output_type": "execute_result"
    }
   ],
   "source": [
    "metrics.fowlkes_mallows_score(labels_true, labels_pred)"
   ]
  }
 ],
 "metadata": {
  "colab": {
   "authorship_tag": "ABX9TyO7KALET282+Olk+rS5091/",
   "provenance": []
  },
  "kernelspec": {
   "display_name": "Python 3 (ipykernel)",
   "language": "python",
   "name": "python3"
  },
  "language_info": {
   "codemirror_mode": {
    "name": "ipython",
    "version": 3
   },
   "file_extension": ".py",
   "mimetype": "text/x-python",
   "name": "python",
   "nbconvert_exporter": "python",
   "pygments_lexer": "ipython3",
   "version": "3.12.4"
  }
 },
 "nbformat": 4,
 "nbformat_minor": 4
}
